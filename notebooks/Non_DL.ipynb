{
  "nbformat": 4,
  "nbformat_minor": 0,
  "metadata": {
    "colab": {
      "name": "Copy of NonDL.ipynb",
      "provenance": [],
      "collapsed_sections": []
    },
    "kernelspec": {
      "name": "python3",
      "display_name": "Python 3"
    },
    "language_info": {
      "name": "python"
    }
  },
  "cells": [
    {
      "cell_type": "markdown",
      "metadata": {
        "id": "q2DJRNG-ARzy"
      },
      "source": [
        "# **Non DL Model: SVM**\n",
        "\n",
        "<ins>Group Members</ins>: Catrina Hacker, Yoonduk Kim, Mohit Bagri\n",
        "\n",
        "This notebook contains the code for one of our non deep learning models. This model uses SVM to do ternary classification of images to assign labels of: \n",
        "\n",
        "*   0: no mask\n",
        "*   1: correctly worn mask\n",
        "*   2: incorrectly worn mask"
      ]
    },
    {
      "cell_type": "markdown",
      "metadata": {
        "id": "4vtEEu9pxNSM"
      },
      "source": [
        "Import libraries "
      ]
    },
    {
      "cell_type": "code",
      "metadata": {
        "id": "-hwwgCyGujG8"
      },
      "source": [
        "import os\n",
        "import matplotlib as mpl\n",
        "import matplotlib.pyplot as plt\n",
        "from IPython.display import display\n",
        "%matplotlib inline\n",
        "import pandas as pd\n",
        "import numpy as np\n",
        "from PIL import Image\n",
        "from skimage.feature import hog\n",
        "from skimage.color import rgb2grey\n",
        "from sklearn.model_selection import train_test_split\n",
        "from sklearn.metrics import accuracy_score\n",
        "from sklearn.preprocessing import StandardScaler\n",
        "from sklearn.decomposition import PCA\n",
        "from sklearn.svm import SVC\n",
        "from sklearn.metrics import roc_curve, auc\n",
        "import cv2\n",
        "import glob\n",
        "import numpy as np\n",
        "import pandas as pd\n",
        "from google.colab import drive\n",
        "from sklearn.model_selection import train_test_split\n",
        "import numpy as np\n",
        "from sklearn.decomposition import PCA\n",
        "from sklearn.svm import SVC\n",
        "from sklearn.metrics import f1_score\n",
        "from sklearn.metrics import confusion_matrix\n",
        "import seaborn as sns"
      ],
      "execution_count": 17,
      "outputs": []
    },
    {
      "cell_type": "markdown",
      "metadata": {
        "id": "ke8kSGrmxXmX"
      },
      "source": [
        "Access to Google Drive"
      ]
    },
    {
      "cell_type": "code",
      "metadata": {
        "colab": {
          "base_uri": "https://localhost:8080/"
        },
        "id": "jdR6toVdPLHD",
        "outputId": "8a9b6361-6794-4d60-a257-bd0469f9e644"
      },
      "source": [
        "drive.mount('/content/drive')"
      ],
      "execution_count": 3,
      "outputs": [
        {
          "output_type": "stream",
          "text": [
            "Mounted at /content/drive\n"
          ],
          "name": "stdout"
        }
      ]
    },
    {
      "cell_type": "markdown",
      "metadata": {
        "id": "sOsty9Ndxglt"
      },
      "source": [
        "Building the Dataset"
      ]
    },
    {
      "cell_type": "code",
      "metadata": {
        "id": "JD6a-F5gNfWa"
      },
      "source": [
        "# Add \"MASK WORN INCORRECTLY\" Images to Dataset \n",
        "path = \"/content/drive/My Drive/Final Project/data/img/c3-incorrect/*.*\"\n",
        "\n",
        "X=[]\n",
        "y=[]\n",
        "\n",
        "i=0\n",
        "\n",
        "limit = 100\n",
        "\n",
        "for file in glob.glob(path):\n",
        "   img = cv2.imread(file)\n",
        "   img = cv2.resize(img.astype(np.float32), (227,227),interpolation=cv2.INTER_CUBIC)\n",
        "   a= img.flatten()\n",
        "   X.append(a)\n",
        "   y.append(2)\n",
        "   i = i+1\n",
        "   if i>limit:\n",
        "     break"
      ],
      "execution_count": 4,
      "outputs": []
    },
    {
      "cell_type": "code",
      "metadata": {
        "id": "1iXnzLMOFVQT"
      },
      "source": [
        "# Add \"NO MASK WORN\" Images to Dataset \n",
        "\n",
        "path = \"/content/drive/My Drive/Final Project/data/img/c1-nomask/*.*\"\n",
        "\n",
        "i=0\n",
        "for file in glob.glob(path):\n",
        "   img = cv2.imread(file)\n",
        "   img = cv2.resize(img.astype(np.float32), (227,227),interpolation=cv2.INTER_CUBIC)\n",
        "   a= img.flatten()\n",
        "   X.append(a)\n",
        "   y.append(0)\n",
        "   i = i+1\n",
        "   if i>limit:\n",
        "     break"
      ],
      "execution_count": 5,
      "outputs": []
    },
    {
      "cell_type": "code",
      "metadata": {
        "id": "xQ9c5JA3QUN_"
      },
      "source": [
        "# Add \"MASK WORN CORRECTLY\" Images to Dataset \n",
        "\n",
        "path = \"/content/drive/My Drive/Final Project/data/img/c2-correct/*.*\"\n",
        "\n",
        "i=0\n",
        "for file in glob.glob(path):\n",
        "   img = cv2.imread(file)\n",
        "   img = cv2.resize(img.astype(np.float32), (227,227),interpolation=cv2.INTER_CUBIC)\n",
        "   a= img.flatten()\n",
        "   X.append(a)\n",
        "   y.append(1)\n",
        "   i = i+1\n",
        "   if i>limit:\n",
        "     break"
      ],
      "execution_count": 7,
      "outputs": []
    },
    {
      "cell_type": "code",
      "metadata": {
        "id": "_jeWVjomdO3u"
      },
      "source": [
        "# Convert Data into DataFrame\n",
        "df = pd.DataFrame(X)"
      ],
      "execution_count": 8,
      "outputs": []
    },
    {
      "cell_type": "code",
      "metadata": {
        "id": "AtxTktJphGSQ"
      },
      "source": [
        "# Impute Missing Values using Median \n",
        "for i in df.columns[df.isnull().any(axis=0)]:     #Applying Only on variables with NaN values\n",
        "    df[i].fillna(df[i].median(),inplace=True)"
      ],
      "execution_count": 9,
      "outputs": []
    },
    {
      "cell_type": "markdown",
      "metadata": {
        "id": "crs_HYWWybzL"
      },
      "source": [
        "Perform Dimensionality Reduction using PCA"
      ]
    },
    {
      "cell_type": "code",
      "metadata": {
        "id": "cXYOmh1Vhkx1"
      },
      "source": [
        "pca = PCA(n_components=150)\n",
        "X=pca.fit_transform(df)"
      ],
      "execution_count": 10,
      "outputs": []
    },
    {
      "cell_type": "markdown",
      "metadata": {
        "id": "NN94gfFYyhq0"
      },
      "source": [
        "Train Test Split of Dataset"
      ]
    },
    {
      "cell_type": "code",
      "metadata": {
        "id": "XAIkb1BJO7mf"
      },
      "source": [
        "X_train, X_test, y_train, y_test = train_test_split(X,y,test_size=.3,random_state=1234123)"
      ],
      "execution_count": 11,
      "outputs": []
    },
    {
      "cell_type": "markdown",
      "metadata": {
        "id": "ecMY7PY-ytm5"
      },
      "source": [
        "Train SVM Classifier"
      ]
    },
    {
      "cell_type": "code",
      "metadata": {
        "colab": {
          "base_uri": "https://localhost:8080/"
        },
        "id": "9sNqvQysPaA6",
        "outputId": "2719041d-15f4-462a-e6af-0e9393423013"
      },
      "source": [
        "svm = SVC(kernel='rbf', probability=True, random_state=42)\n",
        "\n",
        "# fit model\n",
        "svm.fit(X_train, y_train)"
      ],
      "execution_count": 12,
      "outputs": [
        {
          "output_type": "execute_result",
          "data": {
            "text/plain": [
              "SVC(C=1.0, break_ties=False, cache_size=200, class_weight=None, coef0=0.0,\n",
              "    decision_function_shape='ovr', degree=3, gamma='scale', kernel='rbf',\n",
              "    max_iter=-1, probability=True, random_state=42, shrinking=True, tol=0.001,\n",
              "    verbose=False)"
            ]
          },
          "metadata": {
            "tags": []
          },
          "execution_count": 12
        }
      ]
    },
    {
      "cell_type": "markdown",
      "metadata": {
        "id": "yQWBLQl1yxPn"
      },
      "source": [
        "Prediction on Test Data "
      ]
    },
    {
      "cell_type": "code",
      "metadata": {
        "id": "Zx9n2vioZpNw"
      },
      "source": [
        "y_pred = svm.predict(X_test)\n",
        "\n"
      ],
      "execution_count": 13,
      "outputs": []
    },
    {
      "cell_type": "markdown",
      "metadata": {
        "id": "tlyUT2HGy4AR"
      },
      "source": [
        "Compute Performance Metrics"
      ]
    },
    {
      "cell_type": "code",
      "metadata": {
        "colab": {
          "base_uri": "https://localhost:8080/"
        },
        "id": "LbWC_efkGzCm",
        "outputId": "c05b1ba7-026f-4128-a47d-0b54d886a090"
      },
      "source": [
        "# calculate accuracy\n",
        "accuracy = accuracy_score(y_test, y_pred)\n",
        "\n",
        "f1 = f1_score(y_test, y_pred, average='macro')\n",
        "print('Model accuracy:', accuracy,'Model F1 score:', f1)"
      ],
      "execution_count": 21,
      "outputs": [
        {
          "output_type": "stream",
          "text": [
            "Model accuracy: 0.8083333333333333 Model F1 score: 0.7724581582245816\n"
          ],
          "name": "stdout"
        }
      ]
    },
    {
      "cell_type": "markdown",
      "metadata": {
        "id": "UetLQbE3zKMG"
      },
      "source": [
        "Create Confusion Matrix "
      ]
    },
    {
      "cell_type": "code",
      "metadata": {
        "colab": {
          "base_uri": "https://localhost:8080/",
          "height": 346
        },
        "id": "g1rnHJcQMIUt",
        "outputId": "b8143246-6258-42ab-8187-56faf061f953"
      },
      "source": [
        "cm =  confusion_matrix(y_test, y_pred)\n",
        "cm = cm/cm.sum(axis=1)[:,None]\n",
        "sns.heatmap(cm, fmt='.2%',annot=True)\n",
        "plt.ylabel('label')\n",
        "plt.xlabel('prediction')\n",
        "plt.xticks([0.5, 1.5, 2.5], ['no mask', 'correct', 'incorrect'])\n",
        "plt.yticks([0.5, 1.5, 2.5], ['no mask', 'correct', 'incorrect'], verticalalignment='center')"
      ],
      "execution_count": 18,
      "outputs": [
        {
          "output_type": "execute_result",
          "data": {
            "text/plain": [
              "([<matplotlib.axis.YTick at 0x7efbee58dbd0>,\n",
              "  <matplotlib.axis.YTick at 0x7efbee58d410>,\n",
              "  <matplotlib.axis.YTick at 0x7efbf199f3d0>],\n",
              " [Text(0, 0.5, 'no mask'), Text(0, 1.5, 'correct'), Text(0, 2.5, 'incorrect')])"
            ]
          },
          "metadata": {
            "tags": []
          },
          "execution_count": 18
        },
        {
          "output_type": "display_data",
          "data": {
            "image/png": "[encoded data removed]",
            "text/plain": [
              "<Figure size 432x288 with 2 Axes>"
            ]
          },
          "metadata": {
            "tags": [],
            "needs_background": "light"
          }
        }
      ]
    }
  ]
}